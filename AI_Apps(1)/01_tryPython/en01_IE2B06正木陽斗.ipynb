{
 "cells": [
  {
   "cell_type": "markdown",
   "id": "36d9b89e-c663-45ec-bb0a-c3daf13f9618",
   "metadata": {},
   "source": [
    "# 01-2 Pythonの基礎"
   ]
  },
  {
   "cell_type": "markdown",
   "id": "80134aa7-56c4-4cdd-941b-986cf229072d",
   "metadata": {},
   "source": [
    "## Pythonの基礎構文"
   ]
  },
  {
   "cell_type": "code",
   "execution_count": 2,
   "id": "69d9d926-629a-4468-b962-1f87132f6b8c",
   "metadata": {},
   "outputs": [
    {
     "ename": "SyntaxError",
     "evalue": "unterminated string literal (detected at line 4) (2069412365.py, line 4)",
     "output_type": "error",
     "traceback": [
      "\u001b[1;36m  Cell \u001b[1;32mIn[2], line 4\u001b[1;36m\u001b[0m\n\u001b[1;33m    print(\"Hello World)  # エラー\u001b[0m\n\u001b[1;37m          ^\u001b[0m\n\u001b[1;31mSyntaxError\u001b[0m\u001b[1;31m:\u001b[0m unterminated string literal (detected at line 4)\n"
     ]
    }
   ],
   "source": [
    "print(\"Hi ECC\")\n",
    "print('Hi ECC')\n",
    "print(\"Hello ECC\");  # ;は非推奨\n",
    "print(\"Hello World)  # エラー"
   ]
  },
  {
   "cell_type": "markdown",
   "id": "182c8bb3-2243-42e7-a768-62bd2e1c0b3b",
   "metadata": {},
   "source": [
    "## 1. 変数"
   ]
  },
  {
   "cell_type": "code",
   "execution_count": 10,
   "id": "d6a418c6-dc33-4fef-ab45-4ec987d29366",
   "metadata": {},
   "outputs": [
    {
     "name": "stdout",
     "output_type": "stream",
     "text": [
      "ECC\n",
      "22\n",
      "名前：ECC, 年齢：22\n"
     ]
    }
   ],
   "source": [
    "name = \"ECC\"\n",
    "age = 22\n",
    "print(name)\n",
    "print(age)\n",
    "print(f\"名前：{name}, 年齢：{age}\")"
   ]
  },
  {
   "cell_type": "code",
   "execution_count": 12,
   "id": "40a277b9-1806-4776-afe9-be0c9aac64b3",
   "metadata": {},
   "outputs": [
    {
     "name": "stdout",
     "output_type": "stream",
     "text": [
      "11\n"
     ]
    }
   ],
   "source": [
    "num = 1\n",
    "num = \"1\"\n",
    "print(num * 2) # ←1が2回表示される"
   ]
  },
  {
   "cell_type": "code",
   "execution_count": 14,
   "id": "d9551e2f-6ddf-411e-89ec-1271acb1fe38",
   "metadata": {},
   "outputs": [
    {
     "name": "stdout",
     "output_type": "stream",
     "text": [
      "1 2 3\n"
     ]
    }
   ],
   "source": [
    "x,y,z = 1,2,3\n",
    "print(x,y,z)"
   ]
  },
  {
   "cell_type": "markdown",
   "id": "aa44fceb-276a-4392-a7e2-d0c3fbcc9b2b",
   "metadata": {},
   "source": [
    "### 1_2. キーボード値の代入"
   ]
  },
  {
   "cell_type": "code",
   "execution_count": 16,
   "id": "cd812e80-e315-4b44-b6a6-763814931a06",
   "metadata": {},
   "outputs": [
    {
     "name": "stdin",
     "output_type": "stream",
     "text": [
      "名前を入力してください> masaki\n"
     ]
    },
    {
     "name": "stdout",
     "output_type": "stream",
     "text": [
      "masakiさん、お待ちしておりました\n"
     ]
    }
   ],
   "source": [
    "name = input(\"名前を入力してください>\")\n",
    "print(name + \"さん、お待ちしておりました\")"
   ]
  },
  {
   "cell_type": "markdown",
   "id": "653dce6e-2a5c-4e4d-a2f2-a4e0991242ad",
   "metadata": {},
   "source": [
    "### 1_3. データ型変換"
   ]
  },
  {
   "cell_type": "code",
   "execution_count": 18,
   "id": "aed60990-f064-4401-9f78-698c1c2c9e08",
   "metadata": {},
   "outputs": [
    {
     "name": "stdout",
     "output_type": "stream",
     "text": [
      "元の値321\n",
      "元のtype<class 'str'>\n",
      "変換後の値321\n",
      "変換後のtype<class 'int'>\n"
     ]
    }
   ],
   "source": [
    "x = \"321\"\n",
    "print(f\"元の値{x}\")\n",
    "print(f\"元のtype{type(x)}\")\n",
    "x = int(x) # int型に変換\n",
    "print(f\"変換後の値{x}\")\n",
    "print(f\"変換後のtype{type(x)}\")"
   ]
  },
  {
   "cell_type": "markdown",
   "id": "1fb39691-62ea-4fb4-8d18-99ccf28736bf",
   "metadata": {},
   "source": [
    "## 2. コレクション"
   ]
  },
  {
   "cell_type": "code",
   "execution_count": 22,
   "id": "79188557-6408-4b2b-b2bc-13e56e5f2190",
   "metadata": {},
   "outputs": [
    {
     "name": "stdout",
     "output_type": "stream",
     "text": [
      "88\n",
      "[88, 90, 95]\n"
     ]
    }
   ],
   "source": [
    "point = [88,90,95]\n",
    "print(point[0]) # 0番目を表示\n",
    "print(point)    # 全要素を表示"
   ]
  },
  {
   "cell_type": "markdown",
   "id": "e17534c0-5499-4568-8531-1b4868efc69d",
   "metadata": {},
   "source": [
    "### 2_1. sum(リスト)"
   ]
  },
  {
   "cell_type": "code",
   "execution_count": 24,
   "id": "7913ef40-8eb5-4a02-98cd-116a3ba9d3d5",
   "metadata": {},
   "outputs": [
    {
     "name": "stdout",
     "output_type": "stream",
     "text": [
      "sum(point) -> 273\n"
     ]
    }
   ],
   "source": [
    "# point = [88,90,95] #上で実行済みなら不要\n",
    "sumNum = sum(point) # 引数のリストの合計値を取得\n",
    "print(f\"sum(point) -> {sumNum}\")"
   ]
  },
  {
   "cell_type": "markdown",
   "id": "8ea15d91-4469-47b8-b899-519dd44bc9b1",
   "metadata": {},
   "source": [
    "### 2_2. len(リスト)"
   ]
  },
  {
   "cell_type": "code",
   "execution_count": 26,
   "id": "041b7afe-2a5b-4108-a0f0-e20bd41a1001",
   "metadata": {},
   "outputs": [
    {
     "name": "stdout",
     "output_type": "stream",
     "text": [
      "len(point)-> 3\n"
     ]
    }
   ],
   "source": [
    "# point = [88,90,95] #上で実行済みなら不要\n",
    "lenNum = len(point) # リストの要素数を取得\n",
    "print(f\"len(point)-> {lenNum}\")"
   ]
  },
  {
   "cell_type": "markdown",
   "id": "2f571b3c-22fe-4787-98cf-788ec9ace3e0",
   "metadata": {},
   "source": [
    "### 2_3. リスト.append(追加要素)"
   ]
  },
  {
   "cell_type": "code",
   "execution_count": 28,
   "id": "e564493d-973a-437f-b37f-5e2c0cf1486c",
   "metadata": {},
   "outputs": [
    {
     "name": "stdout",
     "output_type": "stream",
     "text": [
      "point [88, 90, 95, 100]\n"
     ]
    }
   ],
   "source": [
    "# point = [88,90,95] #上で実行済みなら不要\n",
    "point.append(100) # 要素を末尾に追加\n",
    "print(f\"point {point}\")"
   ]
  },
  {
   "cell_type": "markdown",
   "id": "45b8d5c1-ccec-43a3-9546-d332edda99bd",
   "metadata": {},
   "source": [
    "### 2_4. リスト.remove(削除要素)"
   ]
  },
  {
   "cell_type": "code",
   "execution_count": 30,
   "id": "e336d2a9-3a4b-4b72-8b28-b97b9ed3bfba",
   "metadata": {},
   "outputs": [
    {
     "name": "stdout",
     "output_type": "stream",
     "text": [
      "point [88, 95, 100]\n",
      "point [88, 90, 95, 100]\n"
     ]
    }
   ],
   "source": [
    "# point = [88,90,95,100] #上を実行済みなら不要\n",
    "point.remove(90) # 指定した要素を削除\n",
    "print(f\"point {point}\")\n",
    "# 同じ要素が2つある場合\n",
    "point = [88,90,90,95,100]\n",
    "point.remove(90) # 指定した要素を削除\n",
    "print(f\"point {point}\")"
   ]
  },
  {
   "cell_type": "markdown",
   "id": "50fc03cb-b255-4a71-9728-c22fedf1c168",
   "metadata": {},
   "source": [
    "## 3. 条件分岐 if"
   ]
  },
  {
   "cell_type": "code",
   "execution_count": 36,
   "id": "e3c08069-467e-4058-a258-13866d5fe0a4",
   "metadata": {},
   "outputs": [
    {
     "name": "stdout",
     "output_type": "stream",
     "text": [
      "ECC\n",
      "--------\n"
     ]
    }
   ],
   "source": [
    "x = 1\n",
    "if x <=1:\n",
    "    # trueの時の処理\n",
    "    print(\"ECC\")\n",
    "else:\n",
    "    # falseの時の処理\n",
    "    print(\"Computer\")\n",
    "print(\"--------\")"
   ]
  },
  {
   "cell_type": "code",
   "execution_count": 40,
   "id": "8c5f19eb-1f64-4c76-9414-3fe4a13556c5",
   "metadata": {},
   "outputs": [
    {
     "name": "stdout",
     "output_type": "stream",
     "text": [
      "ECC\n",
      "--------\n"
     ]
    }
   ],
   "source": [
    "x = 1\n",
    "if x <= 1:\n",
    "    print(\"ECC\")\n",
    "elif x == 2:\n",
    "    print(\"Computer\")\n",
    "else:\n",
    "    print(\"College\")\n",
    "print(\"--------\")"
   ]
  },
  {
   "cell_type": "markdown",
   "id": "3c481321-46c8-4ead-9e81-b43c15a794a4",
   "metadata": {},
   "source": [
    "## 4. 繰り返し処理（for）"
   ]
  },
  {
   "cell_type": "markdown",
   "id": "bbf4d229-764d-402a-8123-e9866c9e4b99",
   "metadata": {},
   "source": [
    "### 4_1. for 変数 in range(初期値, 終点値, 増減値)"
   ]
  },
  {
   "cell_type": "code",
   "execution_count": 43,
   "id": "79a8a802-22dd-45c1-9f41-d888fe261f97",
   "metadata": {},
   "outputs": [
    {
     "name": "stdout",
     "output_type": "stream",
     "text": [
      "2 x 5 = 10\n",
      "2 x 4 = 8\n",
      "2 x 3 = 6\n",
      "2 x 2 = 4\n",
      "2 x 1 = 2\n"
     ]
    }
   ],
   "source": [
    "for i in range(5, 0, -1): #終点値は含まない\n",
    "    print(f\"2 x {i} = {2*i}\")"
   ]
  },
  {
   "cell_type": "markdown",
   "id": "df0e2341-abec-41f4-a5e2-c1ac234ffcea",
   "metadata": {},
   "source": [
    "### 4_2. 変数 in range(回数)"
   ]
  },
  {
   "cell_type": "code",
   "execution_count": 45,
   "id": "0c803f25-25d2-4ed6-84d5-924dda6c8a03",
   "metadata": {},
   "outputs": [
    {
     "name": "stdout",
     "output_type": "stream",
     "text": [
      "2 x 0 = 0\n",
      "2 x 1 = 2\n",
      "2 x 2 = 4\n",
      "2 x 3 = 6\n",
      "2 x 4 = 8\n",
      "2 x 5 = 10\n",
      "2 x 6 = 12\n",
      "2 x 7 = 14\n",
      "2 x 8 = 16\n",
      "2 x 9 = 18\n"
     ]
    }
   ],
   "source": [
    "for i in range(10):\n",
    "    print(f\"2 x {i} = {2*i}\")"
   ]
  },
  {
   "cell_type": "markdown",
   "id": "feda7da5-7346-4e6d-9067-f75419acda35",
   "metadata": {},
   "source": [
    "### 4_3. for 変数 in リスト:"
   ]
  },
  {
   "cell_type": "code",
   "execution_count": 47,
   "id": "6161f636-def2-478a-b35e-d557f24ab3dc",
   "metadata": {},
   "outputs": [
    {
     "name": "stdout",
     "output_type": "stream",
     "text": [
      "64\n",
      "100\n",
      "78\n",
      "90\n",
      "77\n"
     ]
    }
   ],
   "source": [
    "scoreList = [64, 100, 78, 90, 77]\n",
    "for score in scoreList:\n",
    "    print(score)"
   ]
  },
  {
   "cell_type": "markdown",
   "id": "6887e005-2f0a-4c9e-a1da-21abbb2559e2",
   "metadata": {},
   "source": [
    "## 5. 関数"
   ]
  },
  {
   "cell_type": "code",
   "execution_count": 49,
   "id": "2bcae5bd-cae3-4e7e-a594-44499d782b7c",
   "metadata": {},
   "outputs": [
    {
     "name": "stdout",
     "output_type": "stream",
     "text": [
      "129\n"
     ]
    }
   ],
   "source": [
    "def postTaxPrice(price):\n",
    "    ans = int(price * 1.08)\n",
    "    return ans\n",
    "\n",
    "cost = postTaxPrice(120)\n",
    "print(cost)"
   ]
  },
  {
   "cell_type": "code",
   "execution_count": null,
   "id": "2f9a853f-84b5-44f4-aba0-57c0f7e58d79",
   "metadata": {},
   "outputs": [],
   "source": []
  }
 ],
 "metadata": {
  "kernelspec": {
   "display_name": "Python 3 (ipykernel)",
   "language": "python",
   "name": "python3"
  },
  "language_info": {
   "codemirror_mode": {
    "name": "ipython",
    "version": 3
   },
   "file_extension": ".py",
   "mimetype": "text/x-python",
   "name": "python",
   "nbconvert_exporter": "python",
   "pygments_lexer": "ipython3",
   "version": "3.12.4"
  }
 },
 "nbformat": 4,
 "nbformat_minor": 5
}
