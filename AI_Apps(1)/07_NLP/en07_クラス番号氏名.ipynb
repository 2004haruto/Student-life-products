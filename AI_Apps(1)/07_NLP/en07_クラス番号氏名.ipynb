{
 "cells": [
  {
   "cell_type": "markdown",
   "id": "1e3ca8f6-6eae-4bcd-bf72-29c4c8217361",
   "metadata": {},
   "source": [
    "# 3. 形態素解析ツール Janome"
   ]
  },
  {
   "cell_type": "markdown",
   "id": "589e120d-5ffc-4abd-984f-dcf49e49e8e4",
   "metadata": {},
   "source": [
    "## 3-1. ハンズオン：文章を単語に分割してみよう"
   ]
  },
  {
   "cell_type": "markdown",
   "id": "e8d28155-090d-4467-b98f-a75f39e42441",
   "metadata": {},
   "source": [
    "### 3-1-2. オブジェクト生成 : janome.tokenizer.Tokenizer()"
   ]
  },
  {
   "cell_type": "code",
   "execution_count": 2,
   "id": "9bcaec3c-14a3-4314-ad42-c6203d81efd2",
   "metadata": {},
   "outputs": [],
   "source": [
    "# JanomeのTokenizerインポート\n",
    "from janome.tokenizer import Tokenizer"
   ]
  },
  {
   "cell_type": "code",
   "execution_count": 4,
   "id": "a40c9cb4-771d-47dc-a65c-6c3eb846e075",
   "metadata": {},
   "outputs": [],
   "source": [
    "# オブジェクト生成\n",
    "t = Tokenizer()"
   ]
  },
  {
   "cell_type": "markdown",
   "id": "fcdf8cd5-98d3-450a-95f7-8dbab796591c",
   "metadata": {},
   "source": [
    "### 3-1-3. 形態素解析の実行 :  tokenize()"
   ]
  },
  {
   "cell_type": "code",
   "execution_count": 6,
   "id": "b96b00bd-b8eb-4a04-a356-c3837861edde",
   "metadata": {},
   "outputs": [],
   "source": [
    "# result = t.tokenize(\"解析する文字列\")\n",
    "result = t.tokenize(\"すもももももももものうち\")"
   ]
  },
  {
   "cell_type": "code",
   "execution_count": 8,
   "id": "d4476809-717a-4de2-adb1-edbd623a5e1d",
   "metadata": {},
   "outputs": [
    {
     "name": "stdout",
     "output_type": "stream",
     "text": [
      "<class 'generator'>\n",
      "<generator object Tokenizer.__tokenize_stream at 0x0000016BE462E560>\n"
     ]
    }
   ],
   "source": [
    "# そのまま表示できない\n",
    "print(type(result)) # 形態素解析の結果の型を確認\n",
    "print(result)       # 形態素解析の結果を確認"
   ]
  },
  {
   "cell_type": "code",
   "execution_count": 10,
   "id": "315de03d-54f8-4956-a0b9-668d0203d68a",
   "metadata": {},
   "outputs": [
    {
     "name": "stdout",
     "output_type": "stream",
     "text": [
      "<class 'janome.tokenizer.Token'>\n",
      "すもも\t名詞,一般,*,*,*,*,すもも,スモモ,スモモ\n",
      "<class 'janome.tokenizer.Token'>\n",
      "も\t助詞,係助詞,*,*,*,*,も,モ,モ\n",
      "<class 'janome.tokenizer.Token'>\n",
      "もも\t名詞,一般,*,*,*,*,もも,モモ,モモ\n",
      "<class 'janome.tokenizer.Token'>\n",
      "も\t助詞,係助詞,*,*,*,*,も,モ,モ\n",
      "<class 'janome.tokenizer.Token'>\n",
      "もも\t名詞,一般,*,*,*,*,もも,モモ,モモ\n",
      "<class 'janome.tokenizer.Token'>\n",
      "の\t助詞,連体化,*,*,*,*,の,ノ,ノ\n",
      "<class 'janome.tokenizer.Token'>\n",
      "うち\t名詞,非自立,副詞可能,*,*,*,うち,ウチ,ウチ\n"
     ]
    }
   ],
   "source": [
    "# for文で処理\n",
    "for token in result:\n",
    "\tprint(type(token)) # 型の確認\n",
    "\tprint(token)"
   ]
  },
  {
   "cell_type": "code",
   "execution_count": 12,
   "id": "06baeeaf-6097-442e-9c2c-1c565efdd175",
   "metadata": {},
   "outputs": [
    {
     "name": "stdout",
     "output_type": "stream",
     "text": [
      "日本語\t名詞,一般,*,*,*,*,日本語,ニホンゴ,ニホンゴ\n",
      "の\t助詞,連体化,*,*,*,*,の,ノ,ノ\n",
      "形態素\t名詞,一般,*,*,*,*,形態素,ケイタイソ,ケイタイソ\n",
      "解析\t名詞,サ変接続,*,*,*,*,解析,カイセキ,カイセキ\n",
      "は\t助詞,係助詞,*,*,*,*,は,ハ,ワ\n",
      "難しく\t形容詞,自立,*,*,形容詞・イ段,連用テ接続,難しい,ムズカシク,ムズカシク\n",
      "て\t助詞,接続助詞,*,*,*,*,て,テ,テ\n",
      "よく\t副詞,一般,*,*,*,*,よく,ヨク,ヨク\n",
      "分から\t動詞,自立,*,*,五段・ラ行,未然形,分かる,ワカラ,ワカラ\n",
      "なかっ\t助動詞,*,*,*,特殊・ナイ,連用タ接続,ない,ナカッ,ナカッ\n",
      "た\t助動詞,*,*,*,特殊・タ,基本形,た,タ,タ\n",
      "。\t記号,句点,*,*,*,*,。,。,。\n"
     ]
    }
   ],
   "source": [
    "# 動詞や形容詞を含む他の例\n",
    "result = t.tokenize(\"日本語の形態素解析は難しくてよく分からなかった。\")\n",
    "for token in result:\n",
    "\tprint(token)"
   ]
  },
  {
   "cell_type": "code",
   "execution_count": 14,
   "id": "5421165a-cacf-4618-adc4-87c1f3e795b3",
   "metadata": {},
   "outputs": [
    {
     "name": "stdout",
     "output_type": "stream",
     "text": [
      "表層形: 日本語\n",
      "品詞: 名詞,一般,*,*\n",
      "基本形: 日本語\n",
      "読み: ニホンゴ\n",
      "---\n",
      "表層形: の\n",
      "品詞: 助詞,連体化,*,*\n",
      "基本形: の\n",
      "読み: ノ\n",
      "---\n",
      "表層形: 形態素\n",
      "品詞: 名詞,一般,*,*\n",
      "基本形: 形態素\n",
      "読み: ケイタイソ\n",
      "---\n",
      "表層形: 解析\n",
      "品詞: 名詞,サ変接続,*,*\n",
      "基本形: 解析\n",
      "読み: カイセキ\n",
      "---\n",
      "表層形: は\n",
      "品詞: 助詞,係助詞,*,*\n",
      "基本形: は\n",
      "読み: ハ\n",
      "---\n",
      "表層形: 難しく\n",
      "品詞: 形容詞,自立,*,*\n",
      "基本形: 難しい\n",
      "読み: ムズカシク\n",
      "---\n",
      "表層形: て\n",
      "品詞: 助詞,接続助詞,*,*\n",
      "基本形: て\n",
      "読み: テ\n",
      "---\n",
      "表層形: よく\n",
      "品詞: 副詞,一般,*,*\n",
      "基本形: よく\n",
      "読み: ヨク\n",
      "---\n",
      "表層形: 分から\n",
      "品詞: 動詞,自立,*,*\n",
      "基本形: 分かる\n",
      "読み: ワカラ\n",
      "---\n",
      "表層形: なかっ\n",
      "品詞: 助動詞,*,*,*\n",
      "基本形: ない\n",
      "読み: ナカッ\n",
      "---\n",
      "表層形: た\n",
      "品詞: 助動詞,*,*,*\n",
      "基本形: た\n",
      "読み: タ\n",
      "---\n",
      "表層形: 。\n",
      "品詞: 記号,句点,*,*\n",
      "基本形: 。\n",
      "読み: 。\n",
      "---\n"
     ]
    }
   ],
   "source": [
    "# 各トークンの詳細情報（一部）\n",
    "result = t.tokenize(\"日本語の形態素解析は難しくてよく分からなかった。\")\n",
    "for token in result:\n",
    "    print(f\"表層形: {token.surface}\")\n",
    "    print(f\"品詞: {token.part_of_speech}\")\n",
    "    print(f\"基本形: {token.base_form}\")\n",
    "    print(f\"読み: {token.reading}\")\n",
    "    print(\"---\")"
   ]
  },
  {
   "cell_type": "markdown",
   "id": "23ede0e9-34a4-44c7-80f5-dff910e43127",
   "metadata": {},
   "source": [
    "# 4. 単語のベクトル化（word2vec）"
   ]
  },
  {
   "cell_type": "markdown",
   "id": "507c2156-269c-4add-a4ce-2fa6c6ce9c49",
   "metadata": {},
   "source": [
    "## 4-3. ハンズオン：Word2Vecを使用し単語をベクトル化してみよう"
   ]
  },
  {
   "cell_type": "markdown",
   "id": "1c34f045-b079-4f50-86da-cfefe1ccc081",
   "metadata": {},
   "source": [
    "### 4-3-1. 自然言語処理ライブラリ：gensim"
   ]
  },
  {
   "cell_type": "code",
   "execution_count": 16,
   "id": "f078edba-8bc1-4360-a36c-1ee445a76120",
   "metadata": {},
   "outputs": [],
   "source": [
    "# gensimモジュールからword2vecをインポートする\n",
    "from gensim.models import word2vec"
   ]
  },
  {
   "cell_type": "markdown",
   "id": "dfca4c43-f4e0-438d-a104-91908fb886e1",
   "metadata": {},
   "source": [
    "### 4-3-2. 学習用データを読み込む"
   ]
  },
  {
   "cell_type": "code",
   "execution_count": 18,
   "id": "6b25f0d8-8c96-43bf-95aa-da10b21c8354",
   "metadata": {},
   "outputs": [],
   "source": [
    "# 分かち書き済みの文書（学習用データ）を読み込む\n",
    "sentences = word2vec.Text8Corpus('./topic_wakati.txt')"
   ]
  },
  {
   "cell_type": "markdown",
   "id": "6d8bfa07-ecec-40fa-a3b7-63b0730c7d27",
   "metadata": {},
   "source": [
    "### 4-3-3. Word2Vecモデル作成: word2vec.Word2Vec( )"
   ]
  },
  {
   "cell_type": "code",
   "execution_count": 20,
   "id": "c0b5c5c1-1e93-4ca8-9a79-596ed0df3a67",
   "metadata": {},
   "outputs": [],
   "source": [
    "# 読み込んだデータからWord2Vecモデルを学習し作成\n",
    "model = word2vec.Word2Vec(sentences, sg=0, vector_size=100, window=5, min_count=5)"
   ]
  },
  {
   "cell_type": "markdown",
   "id": "1ffc2cc2-89c1-4e95-a067-5665c131385f",
   "metadata": {},
   "source": [
    "### 4-3-4. Word2Vecモデルの保存とロード¶"
   ]
  },
  {
   "cell_type": "code",
   "execution_count": 22,
   "id": "83388c5e-98bc-4dc3-b64a-2e67445a65db",
   "metadata": {},
   "outputs": [],
   "source": [
    "# モデルを保存する\n",
    "model.save(\"./topic.model\")"
   ]
  },
  {
   "cell_type": "code",
   "execution_count": 24,
   "id": "f27b2964-fdfe-46f6-b4c9-b00130b6a514",
   "metadata": {},
   "outputs": [],
   "source": [
    "# モデルのロード\n",
    "model = word2vec.Word2Vec.load(\"./topic.model\")"
   ]
  },
  {
   "cell_type": "markdown",
   "id": "01f01365-4dee-45cb-8a0a-f8e621ffdb41",
   "metadata": {},
   "source": [
    "### 4-3-5. モデルを使用してみる"
   ]
  },
  {
   "cell_type": "code",
   "execution_count": 26,
   "id": "7dd8f563-de93-4494-a565-573e38a17964",
   "metadata": {},
   "outputs": [
    {
     "name": "stdout",
     "output_type": "stream",
     "text": [
      "0.55869275\n"
     ]
    }
   ],
   "source": [
    "# 2つの類似度\n",
    "score = model.wv.similarity('学校','会社')\n",
    "print(score)"
   ]
  },
  {
   "cell_type": "markdown",
   "id": "27ec8248-b415-4030-9c6c-6a79b871ac5f",
   "metadata": {},
   "source": [
    "# 6. BERTを使用した自然言語処理の体験"
   ]
  },
  {
   "cell_type": "markdown",
   "id": "6991893b-92c1-41c1-9c9d-6e57bdaa1118",
   "metadata": {},
   "source": [
    "### 6-3-2. tokenizerの動作確認"
   ]
  },
  {
   "cell_type": "code",
   "execution_count": 30,
   "id": "0a1fb75e-f87c-414f-954a-60b1939753c1",
   "metadata": {},
   "outputs": [],
   "source": [
    "# 日本語版 BERTのTokenizerを使用するためにインポート\n",
    "from transformers import BertJapaneseTokenizer\n",
    "# HuggingFaceで公開されているモデルを読み込み\n",
    "tokenizer = BertJapaneseTokenizer.from_pretrained('tohoku-nlp/bert-base-japanese-whole-word-masking')"
   ]
  },
  {
   "cell_type": "code",
   "execution_count": 32,
   "id": "c9c6fc5e-7331-4927-9d17-997b458d26c5",
   "metadata": {},
   "outputs": [],
   "source": [
    "# 今回処理するテキスト\n",
    "text = \"形態素解析は難しかったが少し理解できた\""
   ]
  },
  {
   "cell_type": "code",
   "execution_count": 34,
   "id": "cf79d768-3317-4afe-bb94-99a996c8cfd6",
   "metadata": {},
   "outputs": [
    {
     "name": "stdout",
     "output_type": "stream",
     "text": [
      "['形態', '素', '解析', 'は', '難しかっ', 'た', 'が', '少し', '理解', 'でき', 'た']\n"
     ]
    }
   ],
   "source": [
    "# 分かち書き\n",
    "tokens= tokenizer.tokenize(text)\n",
    "print(tokens)"
   ]
  },
  {
   "cell_type": "code",
   "execution_count": 36,
   "id": "224315e2-368c-4dd4-8853-a6393903d749",
   "metadata": {},
   "outputs": [
    {
     "name": "stdout",
     "output_type": "stream",
     "text": [
      "[2, 2743, 1884, 5588, 9, 25720, 10, 14, 4800, 3426, 203, 10, 3]\n"
     ]
    }
   ],
   "source": [
    "# IDとの対応確認\n",
    "ids = tokenizer(text).input_ids\n",
    "print(ids)"
   ]
  },
  {
   "cell_type": "code",
   "execution_count": 38,
   "id": "3cbbb8ab-f780-4454-9ee7-2262a82034e8",
   "metadata": {},
   "outputs": [
    {
     "name": "stdout",
     "output_type": "stream",
     "text": [
      "32000\n"
     ]
    }
   ],
   "source": [
    "# tokenizerの語彙リストの数（vocab_size）確認\n",
    "print(tokenizer.vocab_size)"
   ]
  },
  {
   "cell_type": "markdown",
   "id": "5af7fbf3-2c33-4eb3-8ebe-e68135f4ab22",
   "metadata": {},
   "source": [
    "### 6-3-3. transformers.pipelineを使用した文章の穴埋め"
   ]
  },
  {
   "cell_type": "code",
   "execution_count": 40,
   "id": "4d13f5f0-4428-4ca5-b9fb-1e522c2c2823",
   "metadata": {},
   "outputs": [],
   "source": [
    "# pipelineのインポート\n",
    "from transformers import pipeline "
   ]
  },
  {
   "cell_type": "code",
   "execution_count": 44,
   "id": "ebf113c4-d7c0-43a0-9d80-42e1d24b40db",
   "metadata": {},
   "outputs": [
    {
     "name": "stderr",
     "output_type": "stream",
     "text": [
      "Some weights of the model checkpoint at tohoku-nlp/bert-base-japanese-whole-word-masking were not used when initializing BertForMaskedLM: ['bert.pooler.dense.bias', 'bert.pooler.dense.weight', 'cls.seq_relationship.bias', 'cls.seq_relationship.weight']\n",
      "- This IS expected if you are initializing BertForMaskedLM from the checkpoint of a model trained on another task or with another architecture (e.g. initializing a BertForSequenceClassification model from a BertForPreTraining model).\n",
      "- This IS NOT expected if you are initializing BertForMaskedLM from the checkpoint of a model that you expect to be exactly identical (initializing a BertForSequenceClassification model from a BertForSequenceClassification model).\n"
     ]
    }
   ],
   "source": [
    "# タスクと学習済みモデルを指定してモデル作成\n",
    "model = pipeline(task='fill-mask', model='tohoku-nlp/bert-base-japanese-whole-word-masking')"
   ]
  },
  {
   "cell_type": "code",
   "execution_count": 42,
   "id": "2a306b50-3139-4d7d-8ac6-e65b4e8b448a",
   "metadata": {},
   "outputs": [
    {
     "name": "stdout",
     "output_type": "stream",
     "text": [
      "{'score': 0.5629971027374268, 'token': 3614, 'token_str': '良い', 'sequence': '今日 は 、 とても 良い 天気 だ 。'}\n",
      "{'score': 0.24461579322814941, 'token': 2575, 'token_str': 'いい', 'sequence': '今日 は 、 とても いい 天気 だ 。'}\n",
      "{'score': 0.10504642874002457, 'token': 4537, 'token_str': 'よい', 'sequence': '今日 は 、 とても よい 天気 だ 。'}\n",
      "{'score': 0.020728882402181625, 'token': 10820, 'token_str': '明るい', 'sequence': '今日 は 、 とても 明るい 天気 だ 。'}\n",
      "{'score': 0.011709586717188358, 'token': 73, 'token_str': 'お', 'sequence': '今日 は 、 とても お 天気 だ 。'}\n"
     ]
    }
   ],
   "source": [
    "# 穴埋めと結果の表示（穴埋めしたいところは[MASK]と記入）\n",
    "results = model('今日は、とても[MASK]天気だ。')\n",
    "\n",
    "for result in results:\n",
    "    print(result)"
   ]
  },
  {
   "cell_type": "code",
   "execution_count": null,
   "id": "bfcb1052-667d-40be-8048-649df1b5cba0",
   "metadata": {},
   "outputs": [],
   "source": []
  }
 ],
 "metadata": {
  "kernelspec": {
   "display_name": "Python 3 (ipykernel)",
   "language": "python",
   "name": "python3"
  },
  "language_info": {
   "codemirror_mode": {
    "name": "ipython",
    "version": 3
   },
   "file_extension": ".py",
   "mimetype": "text/x-python",
   "name": "python",
   "nbconvert_exporter": "python",
   "pygments_lexer": "ipython3",
   "version": "3.9.20"
  }
 },
 "nbformat": 4,
 "nbformat_minor": 5
}
