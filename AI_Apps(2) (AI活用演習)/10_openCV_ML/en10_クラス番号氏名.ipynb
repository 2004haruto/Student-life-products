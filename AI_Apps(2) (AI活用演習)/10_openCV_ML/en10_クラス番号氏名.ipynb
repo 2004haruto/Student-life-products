{
 "cells": [
  {
   "cell_type": "markdown",
   "id": "85836c08-3d10-457b-97eb-b091cde8f659",
   "metadata": {},
   "source": [
    "# 1. 手書き数字の判断（機械学習）"
   ]
  },
  {
   "cell_type": "markdown",
   "id": "23fa0e6d-eeb4-4315-86bd-b203fa19eb25",
   "metadata": {},
   "source": [
    "## 1-2. 手書き数字のデータセットを利用してみる"
   ]
  },
  {
   "cell_type": "markdown",
   "id": "bf0ca502-b0c8-4f21-a298-6c73446e5c44",
   "metadata": {},
   "source": [
    "* データセットの読み込み"
   ]
  },
  {
   "cell_type": "code",
   "execution_count": 27,
   "id": "91ab3b06-a600-4cb5-ac5f-f659a25e7195",
   "metadata": {},
   "outputs": [],
   "source": [
    "# scikit-learnからインポート\n",
    "from sklearn.datasets import load_digits\n",
    "# データセットを読み込み\n",
    "digits = load_digits()"
   ]
  },
  {
   "cell_type": "code",
   "execution_count": 28,
   "id": "42e6d203-a6c7-439e-ad09-d26d974fe18b",
   "metadata": {},
   "outputs": [
    {
     "name": "stdout",
     "output_type": "stream",
     "text": [
      "{'data': array([[ 0.,  0.,  5., ...,  0.,  0.,  0.],\n",
      "       [ 0.,  0.,  0., ..., 10.,  0.,  0.],\n",
      "       [ 0.,  0.,  0., ..., 16.,  9.,  0.],\n",
      "       ...,\n",
      "       [ 0.,  0.,  1., ...,  6.,  0.,  0.],\n",
      "       [ 0.,  0.,  2., ..., 12.,  0.,  0.],\n",
      "       [ 0.,  0., 10., ..., 12.,  1.,  0.]]), 'target': array([0, 1, 2, ..., 8, 9, 8]), 'frame': None, 'feature_names': ['pixel_0_0', 'pixel_0_1', 'pixel_0_2', 'pixel_0_3', 'pixel_0_4', 'pixel_0_5', 'pixel_0_6', 'pixel_0_7', 'pixel_1_0', 'pixel_1_1', 'pixel_1_2', 'pixel_1_3', 'pixel_1_4', 'pixel_1_5', 'pixel_1_6', 'pixel_1_7', 'pixel_2_0', 'pixel_2_1', 'pixel_2_2', 'pixel_2_3', 'pixel_2_4', 'pixel_2_5', 'pixel_2_6', 'pixel_2_7', 'pixel_3_0', 'pixel_3_1', 'pixel_3_2', 'pixel_3_3', 'pixel_3_4', 'pixel_3_5', 'pixel_3_6', 'pixel_3_7', 'pixel_4_0', 'pixel_4_1', 'pixel_4_2', 'pixel_4_3', 'pixel_4_4', 'pixel_4_5', 'pixel_4_6', 'pixel_4_7', 'pixel_5_0', 'pixel_5_1', 'pixel_5_2', 'pixel_5_3', 'pixel_5_4', 'pixel_5_5', 'pixel_5_6', 'pixel_5_7', 'pixel_6_0', 'pixel_6_1', 'pixel_6_2', 'pixel_6_3', 'pixel_6_4', 'pixel_6_5', 'pixel_6_6', 'pixel_6_7', 'pixel_7_0', 'pixel_7_1', 'pixel_7_2', 'pixel_7_3', 'pixel_7_4', 'pixel_7_5', 'pixel_7_6', 'pixel_7_7'], 'target_names': array([0, 1, 2, 3, 4, 5, 6, 7, 8, 9]), 'images': array([[[ 0.,  0.,  5., ...,  1.,  0.,  0.],\n",
      "        [ 0.,  0., 13., ..., 15.,  5.,  0.],\n",
      "        [ 0.,  3., 15., ..., 11.,  8.,  0.],\n",
      "        ...,\n",
      "        [ 0.,  4., 11., ..., 12.,  7.,  0.],\n",
      "        [ 0.,  2., 14., ..., 12.,  0.,  0.],\n",
      "        [ 0.,  0.,  6., ...,  0.,  0.,  0.]],\n",
      "\n",
      "       [[ 0.,  0.,  0., ...,  5.,  0.,  0.],\n",
      "        [ 0.,  0.,  0., ...,  9.,  0.,  0.],\n",
      "        [ 0.,  0.,  3., ...,  6.,  0.,  0.],\n",
      "        ...,\n",
      "        [ 0.,  0.,  1., ...,  6.,  0.,  0.],\n",
      "        [ 0.,  0.,  1., ...,  6.,  0.,  0.],\n",
      "        [ 0.,  0.,  0., ..., 10.,  0.,  0.]],\n",
      "\n",
      "       [[ 0.,  0.,  0., ..., 12.,  0.,  0.],\n",
      "        [ 0.,  0.,  3., ..., 14.,  0.,  0.],\n",
      "        [ 0.,  0.,  8., ..., 16.,  0.,  0.],\n",
      "        ...,\n",
      "        [ 0.,  9., 16., ...,  0.,  0.,  0.],\n",
      "        [ 0.,  3., 13., ..., 11.,  5.,  0.],\n",
      "        [ 0.,  0.,  0., ..., 16.,  9.,  0.]],\n",
      "\n",
      "       ...,\n",
      "\n",
      "       [[ 0.,  0.,  1., ...,  1.,  0.,  0.],\n",
      "        [ 0.,  0., 13., ...,  2.,  1.,  0.],\n",
      "        [ 0.,  0., 16., ..., 16.,  5.,  0.],\n",
      "        ...,\n",
      "        [ 0.,  0., 16., ..., 15.,  0.,  0.],\n",
      "        [ 0.,  0., 15., ..., 16.,  0.,  0.],\n",
      "        [ 0.,  0.,  2., ...,  6.,  0.,  0.]],\n",
      "\n",
      "       [[ 0.,  0.,  2., ...,  0.,  0.,  0.],\n",
      "        [ 0.,  0., 14., ..., 15.,  1.,  0.],\n",
      "        [ 0.,  4., 16., ..., 16.,  7.,  0.],\n",
      "        ...,\n",
      "        [ 0.,  0.,  0., ..., 16.,  2.,  0.],\n",
      "        [ 0.,  0.,  4., ..., 16.,  2.,  0.],\n",
      "        [ 0.,  0.,  5., ..., 12.,  0.,  0.]],\n",
      "\n",
      "       [[ 0.,  0., 10., ...,  1.,  0.,  0.],\n",
      "        [ 0.,  2., 16., ...,  1.,  0.,  0.],\n",
      "        [ 0.,  0., 15., ..., 15.,  0.,  0.],\n",
      "        ...,\n",
      "        [ 0.,  4., 16., ..., 16.,  6.,  0.],\n",
      "        [ 0.,  8., 16., ..., 16.,  8.,  0.],\n",
      "        [ 0.,  1.,  8., ..., 12.,  1.,  0.]]]), 'DESCR': \".. _digits_dataset:\\n\\nOptical recognition of handwritten digits dataset\\n--------------------------------------------------\\n\\n**Data Set Characteristics:**\\n\\n:Number of Instances: 1797\\n:Number of Attributes: 64\\n:Attribute Information: 8x8 image of integer pixels in the range 0..16.\\n:Missing Attribute Values: None\\n:Creator: E. Alpaydin (alpaydin '@' boun.edu.tr)\\n:Date: July; 1998\\n\\nThis is a copy of the test set of the UCI ML hand-written digits datasets\\nhttps://archive.ics.uci.edu/ml/datasets/Optical+Recognition+of+Handwritten+Digits\\n\\nThe data set contains images of hand-written digits: 10 classes where\\neach class refers to a digit.\\n\\nPreprocessing programs made available by NIST were used to extract\\nnormalized bitmaps of handwritten digits from a preprinted form. From a\\ntotal of 43 people, 30 contributed to the training set and different 13\\nto the test set. 32x32 bitmaps are divided into nonoverlapping blocks of\\n4x4 and the number of on pixels are counted in each block. This generates\\nan input matrix of 8x8 where each element is an integer in the range\\n0..16. This reduces dimensionality and gives invariance to small\\ndistortions.\\n\\nFor info on NIST preprocessing routines, see M. D. Garris, J. L. Blue, G.\\nT. Candela, D. L. Dimmick, J. Geist, P. J. Grother, S. A. Janet, and C.\\nL. Wilson, NIST Form-Based Handprint Recognition System, NISTIR 5469,\\n1994.\\n\\n.. dropdown:: References\\n\\n  - C. Kaynak (1995) Methods of Combining Multiple Classifiers and Their\\n    Applications to Handwritten Digit Recognition, MSc Thesis, Institute of\\n    Graduate Studies in Science and Engineering, Bogazici University.\\n  - E. Alpaydin, C. Kaynak (1998) Cascading Classifiers, Kybernetika.\\n  - Ken Tang and Ponnuthurai N. Suganthan and Xi Yao and A. Kai Qin.\\n    Linear dimensionalityreduction using relevance weighted LDA. School of\\n    Electrical and Electronic Engineering Nanyang Technological University.\\n    2005.\\n  - Claudio Gentile. A New Approximate Maximal Margin Classification\\n    Algorithm. NIPS. 2000.\\n\"}\n"
     ]
    }
   ],
   "source": [
    "# 表示して確認\n",
    "print(digits)"
   ]
  },
  {
   "cell_type": "markdown",
   "id": "97195320-f902-4fd7-bdd5-139c50cff9be",
   "metadata": {},
   "source": [
    "* 確認"
   ]
  },
  {
   "cell_type": "code",
   "execution_count": 29,
   "id": "ad465c50-6553-4c0f-bd96-6ceac1698c9b",
   "metadata": {},
   "outputs": [
    {
     "name": "stdout",
     "output_type": "stream",
     "text": [
      "(1797, 64)\n",
      "[ 0.  0.  5. 13.  9.  1.  0.  0.  0.  0. 13. 15. 10. 15.  5.  0.  0.  3.\n",
      " 15.  2.  0. 11.  8.  0.  0.  4. 12.  0.  0.  8.  8.  0.  0.  5.  8.  0.\n",
      "  0.  9.  8.  0.  0.  4. 11.  0.  1. 12.  7.  0.  0.  2. 14.  5. 10. 12.\n",
      "  0.  0.  0.  0.  6. 13. 10.  0.  0.  0.]\n"
     ]
    }
   ],
   "source": [
    "# 画像データ（1次元）のサイズ\n",
    "print(digits.data.shape)\n",
    "# 最初のデータ\n",
    "print(digits.data[0])"
   ]
  },
  {
   "cell_type": "code",
   "execution_count": 30,
   "id": "ec40fb0e-d938-409a-89ca-8768a3eb8e6f",
   "metadata": {},
   "outputs": [
    {
     "name": "stdout",
     "output_type": "stream",
     "text": [
      "(1797,)\n",
      "0\n"
     ]
    }
   ],
   "source": [
    "# ターゲットのサイズ\n",
    "print(digits.target.shape)\n",
    "# 最初のラベル\n",
    "print(digits.target[0])"
   ]
  },
  {
   "cell_type": "code",
   "execution_count": 31,
   "id": "ec5efac6-a974-47b9-9ebe-38d3f6eb6ed8",
   "metadata": {},
   "outputs": [
    {
     "name": "stdout",
     "output_type": "stream",
     "text": [
      "(1797, 8, 8)\n",
      "[[ 0.  0.  5. 13.  9.  1.  0.  0.]\n",
      " [ 0.  0. 13. 15. 10. 15.  5.  0.]\n",
      " [ 0.  3. 15.  2.  0. 11.  8.  0.]\n",
      " [ 0.  4. 12.  0.  0.  8.  8.  0.]\n",
      " [ 0.  5.  8.  0.  0.  9.  8.  0.]\n",
      " [ 0.  4. 11.  0.  1. 12.  7.  0.]\n",
      " [ 0.  2. 14.  5. 10. 12.  0.  0.]\n",
      " [ 0.  0.  6. 13. 10.  0.  0.  0.]]\n"
     ]
    }
   ],
   "source": [
    "# 画像データ（2次元）のサイズ\n",
    "print(digits.images.shape)\n",
    "# 最初のデータ\n",
    "print(digits.images[0])"
   ]
  },
  {
   "cell_type": "markdown",
   "id": "68f7e72f-22a2-4ee0-a704-d48c0bd2aa94",
   "metadata": {},
   "source": [
    "画像としての表示"
   ]
  },
  {
   "cell_type": "code",
   "execution_count": 32,
   "id": "b8b4973c-1606-4d5d-9492-73e81b267bd4",
   "metadata": {},
   "outputs": [
    {
     "data": {
      "image/png": "[encoded data removed]",
      "text/plain": [
       "<Figure size 640x480 with 1 Axes>"
      ]
     },
     "metadata": {},
     "output_type": "display_data"
    }
   ],
   "source": [
    "# 2次元の画像データ（digits.images[0]）を画像として表示\n",
    "import matplotlib.pyplot as plt\n",
    "plt.imshow(digits.images[0],cmap=\"gray\")\n",
    "plt.show()"
   ]
  },
  {
   "cell_type": "code",
   "execution_count": 33,
   "id": "53048914-0c18-47d5-be76-6c5b007eb037",
   "metadata": {},
   "outputs": [
    {
     "data": {
      "image/png": "[encoded data removed]",
      "text/plain": [
       "<Figure size 640x480 with 15 Axes>"
      ]
     },
     "metadata": {},
     "output_type": "display_data"
    }
   ],
   "source": [
    "# 15個の数字画像を描画するループを回す\n",
    "for i in range(15):\n",
    "    # 3x5のグリッドのi+1番目の場所にプロットする\n",
    "    plt.subplot(3,5,i+1)\n",
    "    # 軸を非表示にする\n",
    "    plt.axis(\"off\")\n",
    "    # タイトルにi番目の画像のラベル（答え）を表示する\n",
    "    plt.title(str(digits.target[i]))\n",
    "    # i番目の画像をグレースケールで表示する\n",
    "    plt.imshow(digits.images[i] , cmap=\"gray\")\n",
    "\n",
    "# 描画する\n",
    "plt.show()"
   ]
  },
  {
   "cell_type": "markdown",
   "id": "3ead59fa-cfa9-43a8-82c8-f681307cf355",
   "metadata": {},
   "source": [
    "## 1-3. 手書き数字を判断する機械学習モデルの作成"
   ]
  },
  {
   "cell_type": "markdown",
   "id": "0f61f400-67b3-4183-a953-a253cefb6c85",
   "metadata": {},
   "source": [
    "1. データセットの準備"
   ]
  },
  {
   "cell_type": "code",
   "execution_count": 34,
   "id": "4988071f-4c69-4cd0-8045-02c87976c30f",
   "metadata": {},
   "outputs": [],
   "source": [
    "# コードの例\n",
    "from sklearn.datasets import load_digits\n",
    "digits = load_digits()"
   ]
  },
  {
   "cell_type": "markdown",
   "id": "c31d8466-f0da-4b41-a513-961ebcb09a23",
   "metadata": {},
   "source": [
    "2. 入力と出力に分割"
   ]
  },
  {
   "cell_type": "code",
   "execution_count": 35,
   "id": "5a9c035c-7d1c-4d24-aa45-214b35bcfa0f",
   "metadata": {},
   "outputs": [],
   "source": [
    "# コードの例\n",
    "x = digits.data\n",
    "t = digits.target"
   ]
  },
  {
   "cell_type": "markdown",
   "id": "a18b0fe7-4822-488d-a417-af4d93d127b3",
   "metadata": {},
   "source": [
    "3. 訓練用とテスト用に分割"
   ]
  },
  {
   "cell_type": "code",
   "execution_count": 36,
   "id": "1d64cf66-18f8-4b57-959d-9e91cfe6594f",
   "metadata": {},
   "outputs": [],
   "source": [
    "# コードの例\n",
    "from sklearn.model_selection import train_test_split\n",
    "x_train, x_test, t_train, t_test = train_test_split(x, t, test_size=0.2, random_state=2230033, stratify=t) "
   ]
  },
  {
   "cell_type": "markdown",
   "id": "080d733b-cca0-4c55-a9e5-dd0de2c4b131",
   "metadata": {},
   "source": [
    "4. 学習"
   ]
  },
  {
   "cell_type": "code",
   "execution_count": 37,
   "id": "78b8693a-9711-4623-9d6a-e540903946a6",
   "metadata": {},
   "outputs": [
    {
     "data": {
      "text/html": [
       "<style>#sk-container-id-2 {\n",
       "  /* Definition of color scheme common for light and dark mode */\n",
       "  --sklearn-color-text: black;\n",
       "  --sklearn-color-line: gray;\n",
       "  /* Definition of color scheme for unfitted estimators */\n",
       "  --sklearn-color-unfitted-level-0: #fff5e6;\n",
       "  --sklearn-color-unfitted-level-1: #f6e4d2;\n",
       "  --sklearn-color-unfitted-level-2: #ffe0b3;\n",
       "  --sklearn-color-unfitted-level-3: chocolate;\n",
       "  /* Definition of color scheme for fitted estimators */\n",
       "  --sklearn-color-fitted-level-0: #f0f8ff;\n",
       "  --sklearn-color-fitted-level-1: #d4ebff;\n",
       "  --sklearn-color-fitted-level-2: #b3dbfd;\n",
       "  --sklearn-color-fitted-level-3: cornflowerblue;\n",
       "\n",
       "  /* Specific color for light theme */\n",
       "  --sklearn-color-text-on-default-background: var(--sg-text-color, var(--theme-code-foreground, var(--jp-content-font-color1, black)));\n",
       "  --sklearn-color-background: var(--sg-background-color, var(--theme-background, var(--jp-layout-color0, white)));\n",
       "  --sklearn-color-border-box: var(--sg-text-color, var(--theme-code-foreground, var(--jp-content-font-color1, black)));\n",
       "  --sklearn-color-icon: #696969;\n",
       "\n",
       "  @media (prefers-color-scheme: dark) {\n",
       "    /* Redefinition of color scheme for dark theme */\n",
       "    --sklearn-color-text-on-default-background: var(--sg-text-color, var(--theme-code-foreground, var(--jp-content-font-color1, white)));\n",
       "    --sklearn-color-background: var(--sg-background-color, var(--theme-background, var(--jp-layout-color0, #111)));\n",
       "    --sklearn-color-border-box: var(--sg-text-color, var(--theme-code-foreground, var(--jp-content-font-color1, white)));\n",
       "    --sklearn-color-icon: #878787;\n",
       "  }\n",
       "}\n",
       "\n",
       "#sk-container-id-2 {\n",
       "  color: var(--sklearn-color-text);\n",
       "}\n",
       "\n",
       "#sk-container-id-2 pre {\n",
       "  padding: 0;\n",
       "}\n",
       "\n",
       "#sk-container-id-2 input.sk-hidden--visually {\n",
       "  border: 0;\n",
       "  clip: rect(1px 1px 1px 1px);\n",
       "  clip: rect(1px, 1px, 1px, 1px);\n",
       "  height: 1px;\n",
       "  margin: -1px;\n",
       "  overflow: hidden;\n",
       "  padding: 0;\n",
       "  position: absolute;\n",
       "  width: 1px;\n",
       "}\n",
       "\n",
       "#sk-container-id-2 div.sk-dashed-wrapped {\n",
       "  border: 1px dashed var(--sklearn-color-line);\n",
       "  margin: 0 0.4em 0.5em 0.4em;\n",
       "  box-sizing: border-box;\n",
       "  padding-bottom: 0.4em;\n",
       "  background-color: var(--sklearn-color-background);\n",
       "}\n",
       "\n",
       "#sk-container-id-2 div.sk-container {\n",
       "  /* jupyter's `normalize.less` sets `[hidden] { display: none; }`\n",
       "     but bootstrap.min.css set `[hidden] { display: none !important; }`\n",
       "     so we also need the `!important` here to be able to override the\n",
       "     default hidden behavior on the sphinx rendered scikit-learn.org.\n",
       "     See: https://github.com/scikit-learn/scikit-learn/issues/21755 */\n",
       "  display: inline-block !important;\n",
       "  position: relative;\n",
       "}\n",
       "\n",
       "#sk-container-id-2 div.sk-text-repr-fallback {\n",
       "  display: none;\n",
       "}\n",
       "\n",
       "div.sk-parallel-item,\n",
       "div.sk-serial,\n",
       "div.sk-item {\n",
       "  /* draw centered vertical line to link estimators */\n",
       "  background-image: linear-gradient(var(--sklearn-color-text-on-default-background), var(--sklearn-color-text-on-default-background));\n",
       "  background-size: 2px 100%;\n",
       "  background-repeat: no-repeat;\n",
       "  background-position: center center;\n",
       "}\n",
       "\n",
       "/* Parallel-specific style estimator block */\n",
       "\n",
       "#sk-container-id-2 div.sk-parallel-item::after {\n",
       "  content: \"\";\n",
       "  width: 100%;\n",
       "  border-bottom: 2px solid var(--sklearn-color-text-on-default-background);\n",
       "  flex-grow: 1;\n",
       "}\n",
       "\n",
       "#sk-container-id-2 div.sk-parallel {\n",
       "  display: flex;\n",
       "  align-items: stretch;\n",
       "  justify-content: center;\n",
       "  background-color: var(--sklearn-color-background);\n",
       "  position: relative;\n",
       "}\n",
       "\n",
       "#sk-container-id-2 div.sk-parallel-item {\n",
       "  display: flex;\n",
       "  flex-direction: column;\n",
       "}\n",
       "\n",
       "#sk-container-id-2 div.sk-parallel-item:first-child::after {\n",
       "  align-self: flex-end;\n",
       "  width: 50%;\n",
       "}\n",
       "\n",
       "#sk-container-id-2 div.sk-parallel-item:last-child::after {\n",
       "  align-self: flex-start;\n",
       "  width: 50%;\n",
       "}\n",
       "\n",
       "#sk-container-id-2 div.sk-parallel-item:only-child::after {\n",
       "  width: 0;\n",
       "}\n",
       "\n",
       "/* Serial-specific style estimator block */\n",
       "\n",
       "#sk-container-id-2 div.sk-serial {\n",
       "  display: flex;\n",
       "  flex-direction: column;\n",
       "  align-items: center;\n",
       "  background-color: var(--sklearn-color-background);\n",
       "  padding-right: 1em;\n",
       "  padding-left: 1em;\n",
       "}\n",
       "\n",
       "\n",
       "/* Toggleable style: style used for estimator/Pipeline/ColumnTransformer box that is\n",
       "clickable and can be expanded/collapsed.\n",
       "- Pipeline and ColumnTransformer use this feature and define the default style\n",
       "- Estimators will overwrite some part of the style using the `sk-estimator` class\n",
       "*/\n",
       "\n",
       "/* Pipeline and ColumnTransformer style (default) */\n",
       "\n",
       "#sk-container-id-2 div.sk-toggleable {\n",
       "  /* Default theme specific background. It is overwritten whether we have a\n",
       "  specific estimator or a Pipeline/ColumnTransformer */\n",
       "  background-color: var(--sklearn-color-background);\n",
       "}\n",
       "\n",
       "/* Toggleable label */\n",
       "#sk-container-id-2 label.sk-toggleable__label {\n",
       "  cursor: pointer;\n",
       "  display: block;\n",
       "  width: 100%;\n",
       "  margin-bottom: 0;\n",
       "  padding: 0.5em;\n",
       "  box-sizing: border-box;\n",
       "  text-align: center;\n",
       "}\n",
       "\n",
       "#sk-container-id-2 label.sk-toggleable__label-arrow:before {\n",
       "  /* Arrow on the left of the label */\n",
       "  content: \"▸\";\n",
       "  float: left;\n",
       "  margin-right: 0.25em;\n",
       "  color: var(--sklearn-color-icon);\n",
       "}\n",
       "\n",
       "#sk-container-id-2 label.sk-toggleable__label-arrow:hover:before {\n",
       "  color: var(--sklearn-color-text);\n",
       "}\n",
       "\n",
       "/* Toggleable content - dropdown */\n",
       "\n",
       "#sk-container-id-2 div.sk-toggleable__content {\n",
       "  max-height: 0;\n",
       "  max-width: 0;\n",
       "  overflow: hidden;\n",
       "  text-align: left;\n",
       "  /* unfitted */\n",
       "  background-color: var(--sklearn-color-unfitted-level-0);\n",
       "}\n",
       "\n",
       "#sk-container-id-2 div.sk-toggleable__content.fitted {\n",
       "  /* fitted */\n",
       "  background-color: var(--sklearn-color-fitted-level-0);\n",
       "}\n",
       "\n",
       "#sk-container-id-2 div.sk-toggleable__content pre {\n",
       "  margin: 0.2em;\n",
       "  border-radius: 0.25em;\n",
       "  color: var(--sklearn-color-text);\n",
       "  /* unfitted */\n",
       "  background-color: var(--sklearn-color-unfitted-level-0);\n",
       "}\n",
       "\n",
       "#sk-container-id-2 div.sk-toggleable__content.fitted pre {\n",
       "  /* unfitted */\n",
       "  background-color: var(--sklearn-color-fitted-level-0);\n",
       "}\n",
       "\n",
       "#sk-container-id-2 input.sk-toggleable__control:checked~div.sk-toggleable__content {\n",
       "  /* Expand drop-down */\n",
       "  max-height: 200px;\n",
       "  max-width: 100%;\n",
       "  overflow: auto;\n",
       "}\n",
       "\n",
       "#sk-container-id-2 input.sk-toggleable__control:checked~label.sk-toggleable__label-arrow:before {\n",
       "  content: \"▾\";\n",
       "}\n",
       "\n",
       "/* Pipeline/ColumnTransformer-specific style */\n",
       "\n",
       "#sk-container-id-2 div.sk-label input.sk-toggleable__control:checked~label.sk-toggleable__label {\n",
       "  color: var(--sklearn-color-text);\n",
       "  background-color: var(--sklearn-color-unfitted-level-2);\n",
       "}\n",
       "\n",
       "#sk-container-id-2 div.sk-label.fitted input.sk-toggleable__control:checked~label.sk-toggleable__label {\n",
       "  background-color: var(--sklearn-color-fitted-level-2);\n",
       "}\n",
       "\n",
       "/* Estimator-specific style */\n",
       "\n",
       "/* Colorize estimator box */\n",
       "#sk-container-id-2 div.sk-estimator input.sk-toggleable__control:checked~label.sk-toggleable__label {\n",
       "  /* unfitted */\n",
       "  background-color: var(--sklearn-color-unfitted-level-2);\n",
       "}\n",
       "\n",
       "#sk-container-id-2 div.sk-estimator.fitted input.sk-toggleable__control:checked~label.sk-toggleable__label {\n",
       "  /* fitted */\n",
       "  background-color: var(--sklearn-color-fitted-level-2);\n",
       "}\n",
       "\n",
       "#sk-container-id-2 div.sk-label label.sk-toggleable__label,\n",
       "#sk-container-id-2 div.sk-label label {\n",
       "  /* The background is the default theme color */\n",
       "  color: var(--sklearn-color-text-on-default-background);\n",
       "}\n",
       "\n",
       "/* On hover, darken the color of the background */\n",
       "#sk-container-id-2 div.sk-label:hover label.sk-toggleable__label {\n",
       "  color: var(--sklearn-color-text);\n",
       "  background-color: var(--sklearn-color-unfitted-level-2);\n",
       "}\n",
       "\n",
       "/* Label box, darken color on hover, fitted */\n",
       "#sk-container-id-2 div.sk-label.fitted:hover label.sk-toggleable__label.fitted {\n",
       "  color: var(--sklearn-color-text);\n",
       "  background-color: var(--sklearn-color-fitted-level-2);\n",
       "}\n",
       "\n",
       "/* Estimator label */\n",
       "\n",
       "#sk-container-id-2 div.sk-label label {\n",
       "  font-family: monospace;\n",
       "  font-weight: bold;\n",
       "  display: inline-block;\n",
       "  line-height: 1.2em;\n",
       "}\n",
       "\n",
       "#sk-container-id-2 div.sk-label-container {\n",
       "  text-align: center;\n",
       "}\n",
       "\n",
       "/* Estimator-specific */\n",
       "#sk-container-id-2 div.sk-estimator {\n",
       "  font-family: monospace;\n",
       "  border: 1px dotted var(--sklearn-color-border-box);\n",
       "  border-radius: 0.25em;\n",
       "  box-sizing: border-box;\n",
       "  margin-bottom: 0.5em;\n",
       "  /* unfitted */\n",
       "  background-color: var(--sklearn-color-unfitted-level-0);\n",
       "}\n",
       "\n",
       "#sk-container-id-2 div.sk-estimator.fitted {\n",
       "  /* fitted */\n",
       "  background-color: var(--sklearn-color-fitted-level-0);\n",
       "}\n",
       "\n",
       "/* on hover */\n",
       "#sk-container-id-2 div.sk-estimator:hover {\n",
       "  /* unfitted */\n",
       "  background-color: var(--sklearn-color-unfitted-level-2);\n",
       "}\n",
       "\n",
       "#sk-container-id-2 div.sk-estimator.fitted:hover {\n",
       "  /* fitted */\n",
       "  background-color: var(--sklearn-color-fitted-level-2);\n",
       "}\n",
       "\n",
       "/* Specification for estimator info (e.g. \"i\" and \"?\") */\n",
       "\n",
       "/* Common style for \"i\" and \"?\" */\n",
       "\n",
       ".sk-estimator-doc-link,\n",
       "a:link.sk-estimator-doc-link,\n",
       "a:visited.sk-estimator-doc-link {\n",
       "  float: right;\n",
       "  font-size: smaller;\n",
       "  line-height: 1em;\n",
       "  font-family: monospace;\n",
       "  background-color: var(--sklearn-color-background);\n",
       "  border-radius: 1em;\n",
       "  height: 1em;\n",
       "  width: 1em;\n",
       "  text-decoration: none !important;\n",
       "  margin-left: 1ex;\n",
       "  /* unfitted */\n",
       "  border: var(--sklearn-color-unfitted-level-1) 1pt solid;\n",
       "  color: var(--sklearn-color-unfitted-level-1);\n",
       "}\n",
       "\n",
       ".sk-estimator-doc-link.fitted,\n",
       "a:link.sk-estimator-doc-link.fitted,\n",
       "a:visited.sk-estimator-doc-link.fitted {\n",
       "  /* fitted */\n",
       "  border: var(--sklearn-color-fitted-level-1) 1pt solid;\n",
       "  color: var(--sklearn-color-fitted-level-1);\n",
       "}\n",
       "\n",
       "/* On hover */\n",
       "div.sk-estimator:hover .sk-estimator-doc-link:hover,\n",
       ".sk-estimator-doc-link:hover,\n",
       "div.sk-label-container:hover .sk-estimator-doc-link:hover,\n",
       ".sk-estimator-doc-link:hover {\n",
       "  /* unfitted */\n",
       "  background-color: var(--sklearn-color-unfitted-level-3);\n",
       "  color: var(--sklearn-color-background);\n",
       "  text-decoration: none;\n",
       "}\n",
       "\n",
       "div.sk-estimator.fitted:hover .sk-estimator-doc-link.fitted:hover,\n",
       ".sk-estimator-doc-link.fitted:hover,\n",
       "div.sk-label-container:hover .sk-estimator-doc-link.fitted:hover,\n",
       ".sk-estimator-doc-link.fitted:hover {\n",
       "  /* fitted */\n",
       "  background-color: var(--sklearn-color-fitted-level-3);\n",
       "  color: var(--sklearn-color-background);\n",
       "  text-decoration: none;\n",
       "}\n",
       "\n",
       "/* Span, style for the box shown on hovering the info icon */\n",
       ".sk-estimator-doc-link span {\n",
       "  display: none;\n",
       "  z-index: 9999;\n",
       "  position: relative;\n",
       "  font-weight: normal;\n",
       "  right: .2ex;\n",
       "  padding: .5ex;\n",
       "  margin: .5ex;\n",
       "  width: min-content;\n",
       "  min-width: 20ex;\n",
       "  max-width: 50ex;\n",
       "  color: var(--sklearn-color-text);\n",
       "  box-shadow: 2pt 2pt 4pt #999;\n",
       "  /* unfitted */\n",
       "  background: var(--sklearn-color-unfitted-level-0);\n",
       "  border: .5pt solid var(--sklearn-color-unfitted-level-3);\n",
       "}\n",
       "\n",
       ".sk-estimator-doc-link.fitted span {\n",
       "  /* fitted */\n",
       "  background: var(--sklearn-color-fitted-level-0);\n",
       "  border: var(--sklearn-color-fitted-level-3);\n",
       "}\n",
       "\n",
       ".sk-estimator-doc-link:hover span {\n",
       "  display: block;\n",
       "}\n",
       "\n",
       "/* \"?\"-specific style due to the `<a>` HTML tag */\n",
       "\n",
       "#sk-container-id-2 a.estimator_doc_link {\n",
       "  float: right;\n",
       "  font-size: 1rem;\n",
       "  line-height: 1em;\n",
       "  font-family: monospace;\n",
       "  background-color: var(--sklearn-color-background);\n",
       "  border-radius: 1rem;\n",
       "  height: 1rem;\n",
       "  width: 1rem;\n",
       "  text-decoration: none;\n",
       "  /* unfitted */\n",
       "  color: var(--sklearn-color-unfitted-level-1);\n",
       "  border: var(--sklearn-color-unfitted-level-1) 1pt solid;\n",
       "}\n",
       "\n",
       "#sk-container-id-2 a.estimator_doc_link.fitted {\n",
       "  /* fitted */\n",
       "  border: var(--sklearn-color-fitted-level-1) 1pt solid;\n",
       "  color: var(--sklearn-color-fitted-level-1);\n",
       "}\n",
       "\n",
       "/* On hover */\n",
       "#sk-container-id-2 a.estimator_doc_link:hover {\n",
       "  /* unfitted */\n",
       "  background-color: var(--sklearn-color-unfitted-level-3);\n",
       "  color: var(--sklearn-color-background);\n",
       "  text-decoration: none;\n",
       "}\n",
       "\n",
       "#sk-container-id-2 a.estimator_doc_link.fitted:hover {\n",
       "  /* fitted */\n",
       "  background-color: var(--sklearn-color-fitted-level-3);\n",
       "}\n",
       "</style><div id=\"sk-container-id-2\" class=\"sk-top-container\"><div class=\"sk-text-repr-fallback\"><pre>SVC()</pre><b>In a Jupyter environment, please rerun this cell to show the HTML representation or trust the notebook. <br />On GitHub, the HTML representation is unable to render, please try loading this page with nbviewer.org.</b></div><div class=\"sk-container\" hidden><div class=\"sk-item\"><div class=\"sk-estimator fitted sk-toggleable\"><input class=\"sk-toggleable__control sk-hidden--visually\" id=\"sk-estimator-id-2\" type=\"checkbox\" checked><label for=\"sk-estimator-id-2\" class=\"sk-toggleable__label fitted sk-toggleable__label-arrow fitted\">&nbsp;&nbsp;SVC<a class=\"sk-estimator-doc-link fitted\" rel=\"noreferrer\" target=\"_blank\" href=\"https://scikit-learn.org/1.5/modules/generated/sklearn.svm.SVC.html\">?<span>Documentation for SVC</span></a><span class=\"sk-estimator-doc-link fitted\">i<span>Fitted</span></span></label><div class=\"sk-toggleable__content fitted\"><pre>SVC()</pre></div> </div></div></div></div>"
      ],
      "text/plain": [
       "SVC()"
      ]
     },
     "execution_count": 37,
     "metadata": {},
     "output_type": "execute_result"
    }
   ],
   "source": [
    "# コードの例\n",
    "from sklearn.svm import SVC\n",
    "model = SVC()\n",
    "model.fit(x_train, t_train) "
   ]
  },
  {
   "cell_type": "markdown",
   "id": "433155f8-1b00-4b20-ba8f-7e59c9543931",
   "metadata": {},
   "source": [
    "5. 評価"
   ]
  },
  {
   "cell_type": "code",
   "execution_count": 38,
   "id": "aeef0ba2-f6cb-48d3-81b4-ca83a33d3e80",
   "metadata": {},
   "outputs": [
    {
     "name": "stdout",
     "output_type": "stream",
     "text": [
      "train score: 0.9944328462073765\n",
      "test score: 0.9861111111111112\n"
     ]
    }
   ],
   "source": [
    "# コードの例\n",
    "print(\"train score:\", model.score(x_train, t_train))\n",
    "print(\"test score:\", model.score(x_test, t_test))"
   ]
  },
  {
   "cell_type": "markdown",
   "id": "537a6471-b256-47a0-8a5d-372173a88157",
   "metadata": {},
   "source": [
    "6. モデルの保存"
   ]
  },
  {
   "cell_type": "code",
   "execution_count": 39,
   "id": "0f930ff7-8f27-4926-97d2-d81ae5f00030",
   "metadata": {},
   "outputs": [
    {
     "data": {
      "text/plain": [
       "['digits.pkl']"
      ]
     },
     "execution_count": 39,
     "metadata": {},
     "output_type": "execute_result"
    }
   ],
   "source": [
    "# コードの例\n",
    "import joblib\n",
    "joblib.dump(model, 'digits.pkl') # モデル変数、ファイルパスを指定"
   ]
  },
  {
   "cell_type": "markdown",
   "id": "6fa05430-9253-463e-8e26-1f61f929d221",
   "metadata": {},
   "source": [
    "## 1-4. 新しい画像に対する予測"
   ]
  },
  {
   "cell_type": "markdown",
   "id": "c99f2953-fe5f-4075-87eb-5897cc57695e",
   "metadata": {},
   "source": [
    "1. ファイルの読み込み"
   ]
  },
  {
   "cell_type": "code",
   "execution_count": 15,
   "id": "4e872e71-a0bd-4803-9416-2f1fbc0ac086",
   "metadata": {},
   "outputs": [],
   "source": [
    "# 画像を読み込んで前処理をする\n",
    "import cv2\n",
    "target_filename = '2.png'\n",
    "target_image = cv2.imread(target_filename)  # ファイル名を指定画像を読み込む"
   ]
  },
  {
   "cell_type": "markdown",
   "id": "747b2608-20ca-4f69-9008-dd8f5604fe41",
   "metadata": {},
   "source": [
    "2. データを学習時のものと合わせる"
   ]
  },
  {
   "cell_type": "code",
   "execution_count": 16,
   "id": "25ebfade-45e1-4688-b29b-9560aadbeaa2",
   "metadata": {},
   "outputs": [],
   "source": [
    "# 読み込んだ画像をグレースケールに変換する\n",
    "target_image = cv2.cvtColor(target_image,cv2.COLOR_BGR2GRAY)"
   ]
  },
  {
   "cell_type": "code",
   "execution_count": 17,
   "id": "cbc61edd-9270-4a8a-825f-61958b95fd7d",
   "metadata": {},
   "outputs": [
    {
     "name": "stdout",
     "output_type": "stream",
     "text": [
      "[[255 255 255 255 255 255 255 255]\n",
      " [255 255  75  65  63 255 255 255]\n",
      " [255 255 158 255 255  63 255 255]\n",
      " [255 255 255 255  34  86 255 255]\n",
      " [255 255 255  31 106 255 255 255]\n",
      " [255 255  31 227 255 255 255 255]\n",
      " [255 255  34  35  31  41  72 255]\n",
      " [255 255 255 255 255 255 255 255]]\n"
     ]
    }
   ],
   "source": [
    "# cv2.resize()関数を使って画像サイズを8x8にリサイズする\n",
    "target_image = cv2.resize(target_image,(8,8))\n",
    "print(target_image) #表示して確認"
   ]
  },
  {
   "cell_type": "code",
   "execution_count": 18,
   "id": "caca44f3-f275-47c0-b317-429ccaffa2c9",
   "metadata": {},
   "outputs": [
    {
     "name": "stdout",
     "output_type": "stream",
     "text": [
      "[[ 0  0  0  0  0  0  0  0]\n",
      " [ 0  0 11 11 12  0  0  0]\n",
      " [ 0  0  6  0  0 12  0  0]\n",
      " [ 0  0  0  0 13 10  0  0]\n",
      " [ 0  0  0 14  9  0  0  0]\n",
      " [ 0  0 14  1  0  0  0  0]\n",
      " [ 0  0 13 13 14 13 11  0]\n",
      " [ 0  0  0  0  0  0  0  0]]\n"
     ]
    }
   ],
   "source": [
    "# 白黒反転し、値の変更\n",
    "target_image = 15 - target_image // 16  # 白黒反転して、0~15の範囲に調整する\n",
    "print(target_image)"
   ]
  },
  {
   "cell_type": "code",
   "execution_count": 19,
   "id": "dbd3b56a-8aad-4d70-95a0-72fca061be15",
   "metadata": {},
   "outputs": [
    {
     "name": "stdout",
     "output_type": "stream",
     "text": [
      "[[ 0  0  0  0  0  0  0  0  0  0 11 11 12  0  0  0  0  0  6  0  0 12  0  0\n",
      "   0  0  0  0 13 10  0  0  0  0  0 14  9  0  0  0  0  0 14  1  0  0  0  0\n",
      "   0  0 13 13 14 13 11  0  0  0  0  0  0  0  0  0]]\n"
     ]
    }
   ],
   "source": [
    "# 1次元にする\n",
    "target_image = target_image.reshape(-1, 64)\n",
    "print(target_image)"
   ]
  },
  {
   "cell_type": "markdown",
   "id": "65275465-cb06-43b5-b548-a1db9165dedb",
   "metadata": {},
   "source": [
    "3. 機械学習に入れて予測する"
   ]
  },
  {
   "cell_type": "code",
   "execution_count": 20,
   "id": "428490f8-07af-4665-91d4-734e65069922",
   "metadata": {},
   "outputs": [
    {
     "name": "stdout",
     "output_type": "stream",
     "text": [
      "2.pngは、数字の2ですね。\n"
     ]
    }
   ],
   "source": [
    "# 保存したモデルのファイルからモデルを読み込む\n",
    "import joblib\n",
    "model = joblib.load('digits.pkl')\n",
    "res = model.predict(target_image)\n",
    "print(f\"{target_filename}は、数字の{res[0]}ですね。\")"
   ]
  },
  {
   "cell_type": "markdown",
   "id": "ae262620-8228-4254-9640-893899c3fd3e",
   "metadata": {},
   "source": [
    "# 2. 輪郭検出（OpenCV）"
   ]
  },
  {
   "cell_type": "markdown",
   "id": "620f00e5-c96c-44f8-b07e-a84806b75256",
   "metadata": {},
   "source": [
    "## 2-2. はがきの輪郭検出"
   ]
  },
  {
   "cell_type": "markdown",
   "id": "5a09acc0-8a6d-47ad-9ff9-b02978f18933",
   "metadata": {},
   "source": [
    "輪郭を抽出する関数（配布・記入済み）\n",
    "\n",
    "**実行してください**"
   ]
  },
  {
   "cell_type": "code",
   "execution_count": 21,
   "id": "e82a8d62-ca56-47d7-8ae6-c86917a34ede",
   "metadata": {},
   "outputs": [],
   "source": [
    "# OpenCVとMatplotlibのインポート\n",
    "import cv2\n",
    "import matplotlib.pyplot as plt\n",
    "\n",
    "# 画像から郵便番号の領域を検出する関数の定義\n",
    "def detect_postcode(fname):\n",
    "    \n",
    "    # 画像の読み込み\n",
    "    img = cv2.imread(fname)\n",
    "\n",
    "    # 画像の高さと幅を取得し、高さと横幅を切り取る\n",
    "    h, w = img.shape[:2]        # 高さと幅を取得 (高さ、幅、チャンネル)の2つ目までという意味\n",
    "    img = img[0:h//2, w//3:]    # 高さを0から1/2までに 横幅を1/3から端までに切り取る\n",
    "\n",
    "    # グレースケール変換、ガウシアンフィルタリング、二値化\n",
    "    gray = cv2.cvtColor(img, cv2.COLOR_BGR2GRAY)    # グレースケール変換\n",
    "    gray = cv2.GaussianBlur(gray, (3, 3), 0)        # ガウシアンフィルタでぼかし処理\n",
    "    img2 = cv2.threshold(gray, 140, 255, cv2.THRESH_BINARY_INV)[1]   # 二値化処理\n",
    "\n",
    "    # 輪郭の検出\n",
    "    cnts = cv2.findContours(img2,        # 画像\n",
    "        cv2.RETR_LIST,                  # 全ての輪郭を摘出\n",
    "        cv2.CHAIN_APPROX_SIMPLE)[0]     # 必要な点だけ摘出\n",
    "\n",
    "    # 検出された輪郭の中から特定の幅のものを抽出し、座標を取得\n",
    "    result = []\n",
    "    for pt in cnts:\n",
    "        x, y, w, h = cv2.boundingRect(pt)   # 各輪郭のx座標、y座標,横幅,縦幅を取得\n",
    "        if not(50 < w < 70): continue       # 横幅が50以下または70以上の場合は何もしない\n",
    "        result.append([x, y, w, h])         # 結果用のリストに輪郭情報を追加\n",
    "\n",
    "    # 抽出した座標に矩形を描画\n",
    "    for x, y, w, h in result:\n",
    "        cv2.rectangle(img, (x, y), (x+w, y+h), (0, 255, 0), 3)\n",
    "\n",
    "    # 抽出した輪郭を左側から並ぶようソート\n",
    "    result = sorted(result,key=lambda x:x[0])\n",
    "    \n",
    "\t\t# ソートされた座標の中から隣り合う座標間の距離が一定以上のものを抽出\n",
    "    result2 = []\n",
    "    if result:    #  resultが空でない場合のみ処理を行う\n",
    "        lastx = result[0][0]  # 最初のx座標で初期化\n",
    "        result2.append(result[0])  # 最初の要素を追加\n",
    "        for x, y, w, h in result[1:]:  # 最初の要素をスキップ\n",
    "            if x - lastx >= 10:  # 値を調整したり、変数で外部から設定可能にする\n",
    "                result2.append([x, y, w, h])\n",
    "            lastx = x  # lastxを更新\n",
    "\n",
    "\n",
    "    # 結果を返す\n",
    "    return result2,img"
   ]
  },
  {
   "cell_type": "markdown",
   "id": "68f086d2-69af-4a04-894e-9961ea51d999",
   "metadata": {},
   "source": [
    "はがき画像から輪郭の抽出"
   ]
  },
  {
   "cell_type": "code",
   "execution_count": 22,
   "id": "55d04a48-4ac2-488f-b51a-464a2651ee59",
   "metadata": {},
   "outputs": [
    {
     "data": {
      "image/png": "[encoded data removed]",
      "text/plain": [
       "<Figure size 640x480 with 1 Axes>"
      ]
     },
     "metadata": {},
     "output_type": "display_data"
    }
   ],
   "source": [
    "# detect_postcode.pyでは、「if __name__ == '__main__':」の部分\n",
    "result, img = detect_postcode(\"hagaki1.png\")\n",
    "plt.imshow(cv2.cvtColor(img, cv2.COLOR_BGR2RGB))\n",
    "plt.savefig(\"detect-postcode.png\", dpi=200)\n",
    "plt.show()"
   ]
  },
  {
   "cell_type": "code",
   "execution_count": 23,
   "id": "62eb117b-a82d-4d9c-9b81-c1295dbff3c4",
   "metadata": {},
   "outputs": [
    {
     "name": "stdout",
     "output_type": "stream",
     "text": [
      "[[80, 119, 57, 78], [140, 119, 58, 78], [204, 122, 52, 72], [270, 122, 52, 72], [328, 121, 54, 74], [387, 121, 54, 74], [446, 121, 54, 74]]\n"
     ]
    }
   ],
   "source": [
    "# resultを表示して確認\n",
    "print(result)"
   ]
  },
  {
   "cell_type": "markdown",
   "id": "5f05e6e6-3792-486c-8c7f-b36289a4401e",
   "metadata": {},
   "source": [
    "## 2-3. 数字部分の画像を切り出そう"
   ]
  },
  {
   "cell_type": "code",
   "execution_count": 24,
   "id": "ed342de0-bf20-4ae3-86e3-60f3d3eb083e",
   "metadata": {},
   "outputs": [],
   "source": [
    "# 郵便番号部分の検出（上と同じ）\n",
    "result, img = detect_postcode('hagaki1.png')"
   ]
  },
  {
   "cell_type": "code",
   "execution_count": 25,
   "id": "8f594775-d308-47e5-bc0a-98ac85c2f178",
   "metadata": {},
   "outputs": [],
   "source": [
    "# ループ処理\n",
    "# 画像データを保存するリスト\n",
    "imgs = []\n",
    "for box in result:\n",
    "    x,y,w,h = box #各値に分ける\n",
    "     # スライスを使用して、少し内側(±8)をカット\n",
    "     # xとyの順番に注意する！\n",
    "    img_cut = img[y+8:y+h-8, x+8:x+w-8]\n",
    "    imgs.append(img_cut)"
   ]
  },
  {
   "cell_type": "code",
   "execution_count": 26,
   "id": "44ee9127-9a97-40a6-837d-b5ba709e47b1",
   "metadata": {},
   "outputs": [
    {
     "data": {
      "image/png": "[encoded data removed]",
      "text/plain": [
       "<Figure size 640x480 with 7 Axes>"
      ]
     },
     "metadata": {},
     "output_type": "display_data"
    }
   ],
   "source": [
    "# 画像を表示して確認\n",
    "# imgsの中身だけでなく、indexも使用したいので、enumerate()を使用\n",
    "for i, img in enumerate(imgs):\n",
    "    plt.subplot(1, len(imgs), i+1) #1行7列の領域のi+1番目に表示する\n",
    "    plt.axis(\"off\") # 軸を表示しない\n",
    "    plt.imshow(img)"
   ]
  },
  {
   "cell_type": "code",
   "execution_count": null,
   "id": "be0518ce-e1be-472b-b4aa-c71fb4843d6b",
   "metadata": {},
   "outputs": [],
   "source": []
  }
 ],
 "metadata": {
  "kernelspec": {
   "display_name": "Python 3 (ipykernel)",
   "language": "python",
   "name": "python3"
  },
  "language_info": {
   "codemirror_mode": {
    "name": "ipython",
    "version": 3
   },
   "file_extension": ".py",
   "mimetype": "text/x-python",
   "name": "python",
   "nbconvert_exporter": "python",
   "pygments_lexer": "ipython3",
   "version": "3.9.20"
  }
 },
 "nbformat": 4,
 "nbformat_minor": 5
}
